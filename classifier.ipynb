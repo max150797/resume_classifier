{
 "cells": [
  {
   "cell_type": "markdown",
   "id": "dfe729f2",
   "metadata": {},
   "source": [
    "## Обработчик резюме"
   ]
  },
  {
   "cell_type": "code",
   "execution_count": 2,
   "id": "762c10dc",
   "metadata": {},
   "outputs": [],
   "source": [
    "import re\n",
    "import PyPDF2\n",
    "\n",
    "# Функция для преобразования PDF-файла в текст\n",
    "def convert_pdf_to_text(path_to_pdf):\n",
    "    with open(path_to_pdf, 'rb') as file:\n",
    "        reader = PyPDF2.PdfFileReader(file)\n",
    "        text = \"\"\n",
    "        for page in range(reader.numPages):\n",
    "            text += reader.getPage(page).extractText()\n",
    "        return text\n"
   ]
  },
  {
   "cell_type": "code",
   "execution_count": null,
   "id": "9986aaec",
   "metadata": {},
   "outputs": [],
   "source": []
  }
 ],
 "metadata": {
  "kernelspec": {
   "display_name": "Python 3 (ipykernel)",
   "language": "python",
   "name": "python3"
  },
  "language_info": {
   "codemirror_mode": {
    "name": "ipython",
    "version": 3
   },
   "file_extension": ".py",
   "mimetype": "text/x-python",
   "name": "python",
   "nbconvert_exporter": "python",
   "pygments_lexer": "ipython3",
   "version": "3.9.13"
  },
  "toc": {
   "base_numbering": 1,
   "nav_menu": {},
   "number_sections": true,
   "sideBar": true,
   "skip_h1_title": true,
   "title_cell": "Table of Contents",
   "title_sidebar": "Contents",
   "toc_cell": false,
   "toc_position": {},
   "toc_section_display": true,
   "toc_window_display": false
  }
 },
 "nbformat": 4,
 "nbformat_minor": 5
}
